{
 "cells": [
  {
   "cell_type": "markdown",
   "metadata": {},
   "source": [
    "# Pipeline for Preprocessing aorta data"
   ]
  },
  {
   "cell_type": "code",
   "execution_count": 7,
   "metadata": {},
   "outputs": [],
   "source": [
    "from ipynb.fs.full.processing_Functions import Match_SurfacePoint_to_CenterlinePoint,Calculate_centerline_length,merge_df_SP_CLP_Match_cal\n",
    "import pandas as pd\n",
    "import numpy as np\n",
    "import time\n",
    "from ast import literal_eval\n",
    "import matplotlib.pyplot as plt"
   ]
  },
  {
   "cell_type": "markdown",
   "metadata": {},
   "source": [
    "## Workfolders and paths"
   ]
  },
  {
   "cell_type": "code",
   "execution_count": 3,
   "metadata": {},
   "outputs": [],
   "source": [
    "work_Folder = **\n",
    "Aorta_Metrics_file_name = 'aorta_clipped_metrics.dat'\n",
    "Aorta_centerline_file_name = 'aorta_clgm.dat'\n",
    "\n",
    "# full path\n",
    "Metric_file_path = work_Folder + \"\\\\\" + Aorta_Metrics_file_name\n",
    "Curve_file_path  = work_Folder + \"\\\\\" + Aorta_centerline_file_name"
   ]
  },
  {
   "cell_type": "markdown",
   "metadata": {},
   "source": [
    "## Reading data in dataframe"
   ]
  },
  {
   "cell_type": "code",
   "execution_count": 4,
   "metadata": {},
   "outputs": [],
   "source": [
    "df_SP = pd.read_csv(Metric_file_path,\n",
    "                 sep=\"\\s+\", #separator whitespace\n",
    "                 header=0) \n",
    "\n",
    "df_CLP = pd.read_csv(Curve_file_path,\n",
    "                 sep=\"\\s+\", #separator whitespace\n",
    "                 header=0) \n"
   ]
  },
  {
   "cell_type": "markdown",
   "metadata": {},
   "source": [
    "## Calculate the euclidian distance between surface and centerline"
   ]
  },
  {
   "cell_type": "code",
   "execution_count": 4,
   "metadata": {},
   "outputs": [
    {
     "name": "stdout",
     "output_type": "stream",
     "text": [
      "calculating (%): 0.0(0 out of 103766)\n",
      "calculating (%): 9.6(10000 out of 103766)\n",
      "calculating (%): 19.3(20000 out of 103766)\n",
      "calculating (%): 28.9(30000 out of 103766)\n",
      "calculating (%): 38.5(40000 out of 103766)\n",
      "calculating (%): 48.2(50000 out of 103766)\n",
      "calculating (%): 57.8(60000 out of 103766)\n",
      "calculating (%): 67.5(70000 out of 103766)\n",
      "calculating (%): 77.1(80000 out of 103766)\n",
      "calculating (%): 86.7(90000 out of 103766)\n",
      "calculating (%): 96.4(100000 out of 103766)\n"
     ]
    }
   ],
   "source": [
    "#long calculation! save to csv as backup\n",
    "df_SP_CLP = Match_SurfacePoint_to_CenterlinePoint(df_SP[['X','Y','Z']],df_CLP[['X','Y','Z']],200)\n",
    "df_SP_CLP.to_csv(work_Folder + \"\\\\\" + 'df_SP_CLP_match2.csv')"
   ]
  },
  {
   "cell_type": "code",
   "execution_count": 5,
   "metadata": {},
   "outputs": [],
   "source": [
    "df_SP_CLP = pd.read_csv(work_Folder + \"\\\\\" + 'df_SP_CLP_match2.csv')"
   ]
  },
  {
   "cell_type": "markdown",
   "metadata": {},
   "source": [
    "### centerline length"
   ]
  },
  {
   "cell_type": "code",
   "execution_count": 8,
   "metadata": {},
   "outputs": [],
   "source": [
    "centerline_length = Calculate_centerline_length(df_CLP)\n",
    "df_CLP['centerline_length'] = centerline_length"
   ]
  },
  {
   "cell_type": "markdown",
   "metadata": {},
   "source": [
    "## Merge generated data for futher processing"
   ]
  },
  {
   "cell_type": "code",
   "execution_count": 9,
   "metadata": {},
   "outputs": [],
   "source": [
    "#Merge all data in one large dataframe\n",
    "\n",
    "df = merge_df_SP_CLP_Match_cal(df_SP,df_CLP,df_SP_CLP)"
   ]
  },
  {
   "cell_type": "code",
   "execution_count": 13,
   "metadata": {},
   "outputs": [
    {
     "data": {
      "text/plain": [
       "Index(['X_SP', 'Y_SP', 'Z_SP', 'velocity_magnitude', 'x_velocity',\n",
       "       'y_velocity', 'z_velocity', 'wall_shear', 'x_wall_shear',\n",
       "       'y_wall_shear', 'z_wall_shear', 'pressure', 'velocity0', 'velocity1',\n",
       "       'velocity2', 'GroupIds', 'AngularMetric', 'AbscissaMetric',\n",
       "       'centerline_point_index', 'min_distance', 'point_vector', 'X_CLP',\n",
       "       'Y_CLP', 'Z_CLP', 'MaximumInscribedSphereRadius', 'Abscissas',\n",
       "       'ParallelTransportNormals0', 'ParallelTransportNormals1',\n",
       "       'ParallelTransportNormals2', 'Curvature', 'Torsion', 'FrenetTangent0',\n",
       "       'FrenetTangent1', 'FrenetTangent2', 'FrenetNormal0', 'FrenetNormal1',\n",
       "       'FrenetNormal2', 'FrenetBinormal0', 'FrenetBinormal1',\n",
       "       'FrenetBinormal2'],\n",
       "      dtype='object')"
      ]
     },
     "execution_count": 13,
     "metadata": {},
     "output_type": "execute_result"
    }
   ],
   "source": [
    "df.columns"
   ]
  },
  {
   "cell_type": "code",
   "execution_count": 10,
   "metadata": {},
   "outputs": [],
   "source": [
    "area = Calculate_Surface_area(df)"
   ]
  },
  {
   "cell_type": "code",
   "execution_count": 11,
   "metadata": {},
   "outputs": [],
   "source": [
    "df['bumpy'] = df['min_distance']-df['MaximumInscribedSphereRadius']"
   ]
  },
  {
   "cell_type": "code",
   "execution_count": 12,
   "metadata": {},
   "outputs": [],
   "source": [
    "df_merged_area = df.merge(area,left_on = 'centerline_point_index', right_on = 'index_CL')\n",
    "df_merged_area.to_csv(work_Folder + \"\\\\\" + 'Scan2_finalOutput.csv')"
   ]
  },
  {
   "cell_type": "code",
   "execution_count": 1,
   "metadata": {},
   "outputs": [],
   "source": [
    "def Calculate_Surface_area(df_merged):\n",
    "    #sort the dataframe first\n",
    "    df_merged = df_merged.sort_values(['centerline_point_index','AngularMetric'],ascending=[True, False])\n",
    "    \n",
    "    # calculate the surface area for each centerlinepoint\n",
    "    area_list = []\n",
    "    Loop_list = df_merged['centerline_point_index'].unique()\n",
    "    #Loop through all surface points which have a centerline assigned\n",
    "    for i in Loop_list:\n",
    "        #filter the dataframe for each centerline_point\n",
    "        df_merged[df_merged['centerline_point_index']== i]\n",
    "        Area = 0\n",
    "        #get the amount of surface points assinged to a specifc centerline_point_index\n",
    "        N_tri_edg = len(df_merged[df_merged['centerline_point_index']== i])\n",
    "        for j in range(0,N_tri_edg):\n",
    "            #check if j is last point, then cross last with first point\n",
    "            if j == N_tri_edg:\n",
    "                #vec_A = np.array(literal_eval(df_merged['point_vector'][j]))\n",
    "                #vec_B = np.array(literal_eval(df_merged['point_vector'][0]))\n",
    "                vec_A = np.array(literal_eval(df_merged['point_vector'][j]))\n",
    "                vec_B = np.array(literal_eval(df_merged['point_vector'][0]))\n",
    "                Area = Area + 0.5 * np.linalg.norm(np.cross(vec_A,vec_B))\n",
    "\n",
    "            if j < N_tri_edg:\n",
    "                #vec_A = np.array(literal_eval(df_merged['point_vector'][j]))\n",
    "                #vec_B = np.array(literal_eval(df_merged['point_vector'][j+1]))\n",
    "                vec_A = np.array(literal_eval(df_merged['point_vector'][j]))\n",
    "                vec_B = np.array(literal_eval(df_merged['point_vector'][j+1]))\n",
    "                Area = Area + 0.5 * np.linalg.norm(np.cross(vec_A,vec_B))\n",
    "        \n",
    "        area_list.append([Area,i])\n",
    "    df_area = pd.DataFrame(area_list,  columns=['Area', 'index_CL'])   \n",
    "    return(df_area)"
   ]
  },
  {
   "cell_type": "code",
   "execution_count": null,
   "metadata": {},
   "outputs": [],
   "source": []
  }
 ],
 "metadata": {
  "kernelspec": {
   "display_name": "Python 3",
   "language": "python",
   "name": "python3"
  },
  "language_info": {
   "codemirror_mode": {
    "name": "ipython",
    "version": 3
   },
   "file_extension": ".py",
   "mimetype": "text/x-python",
   "name": "python",
   "nbconvert_exporter": "python",
   "pygments_lexer": "ipython3",
   "version": "3.6.6"
  },
  "latex_envs": {
   "LaTeX_envs_menu_present": true,
   "autoclose": false,
   "autocomplete": true,
   "bibliofile": "biblio.bib",
   "cite_by": "apalike",
   "current_citInitial": 1,
   "eqLabelWithNumbers": true,
   "eqNumInitial": 1,
   "hotkeys": {
    "equation": "Ctrl-E",
    "itemize": "Ctrl-I"
   },
   "labels_anchors": false,
   "latex_user_defs": false,
   "report_style_numbering": false,
   "user_envs_cfg": false
  }
 },
 "nbformat": 4,
 "nbformat_minor": 2
}
