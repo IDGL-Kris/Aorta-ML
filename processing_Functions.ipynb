{
 "cells": [
  {
   "cell_type": "markdown",
   "metadata": {},
   "source": [
    "# Functions used for pre-porcessing data"
   ]
  },
  {
   "cell_type": "code",
   "execution_count": 5,
   "metadata": {},
   "outputs": [],
   "source": [
    "import pandas as pd\n",
    "import numpy as np\n",
    "from ast import literal_eval\n",
    "import matplotlib.pyplot as plt"
   ]
  },
  {
   "cell_type": "markdown",
   "metadata": {},
   "source": [
    "### Functions used for pre-processing data"
   ]
  },
  {
   "cell_type": "code",
   "execution_count": 2,
   "metadata": {},
   "outputs": [],
   "source": [
    "def Match_SurfacePoint_to_CenterlinePoint(Cor_SP,Cor_CLP,max_iter_SP):\n",
    "    ### take two coordinates dataframe, the first containing the coordintes of the surface points\n",
    "    ### The second for the coordinates of the centerline points. \n",
    "    ### This function will then calculated the euclidian distance between the points. \n",
    "    ### Only keeping the smalles values. The output consist out of the index of the surfacepoint\n",
    "    ### and the corresponding centerlinepoint\n",
    " \n",
    "    #timer\n",
    "    #start_time = time.time()\n",
    "    \n",
    "    #convert input values (dataframe) to array values\n",
    "    arr_SP = Cor_SP.values\n",
    "    arr_CLP = Cor_CLP.values\n",
    "    \n",
    "    # initial d_min is an arbitrary chosen value, \n",
    "    d_min = 50\n",
    "\n",
    "    # empty list to store the data\n",
    "    min_array = []\n",
    "    index_array = []\n",
    "    point_vector_array = []\n",
    "    \n",
    "    #row counter to find the index of the smallest point\n",
    "    print_counter = 0\n",
    "    Nloops = len(arr_SP)\n",
    "    max_iter_SP_ = max_iter_SP\n",
    "    \n",
    "    # loop through and calculate all distances from surface points to centerlines (for every surface point).\n",
    "    # save the shortage distance and index of that cell\n",
    "    for row_SP in arr_SP:\n",
    "        \n",
    "        if ((print_counter % 10000)==0):\n",
    "            print(\"calculating (%): \" + str(round((100*(print_counter/Nloops)),1)) + '(' + str(print_counter) +' out of ' + str(Nloops)+')')\n",
    "\n",
    "        #reset index & d_min for each point\n",
    "        index = 0\n",
    "        d_min = 10\n",
    "        max_cal_counter = 0\n",
    "        \n",
    "        for row_CLP in arr_CLP:\n",
    "            point_vector = (row_SP - row_CLP)\n",
    "            #calculate the magnitude of the vector\n",
    "            d = np.linalg.norm(point_vector)\n",
    "\n",
    "            # store the smallest distance and index of point centerline\n",
    "            if d < d_min:\n",
    "                d_min = d\n",
    "                row_index = index\n",
    "                point_vector_data = list(point_vector)\n",
    "            if d_min == d_min:\n",
    "                max_cal_counter = max_cal_counter+1\n",
    "                \n",
    "            if max_cal_counter > max_iter_SP_:\n",
    "                max_cal_counter = 0\n",
    "                next\n",
    "\n",
    "            index = index +1\n",
    "            \n",
    "        print_counter = print_counter +1\n",
    "        min_array.append(d_min)\n",
    "        index_array.append(row_index)\n",
    "        point_vector_array.append(point_vector_data)\n",
    "        \n",
    "\n",
    "\n",
    "    a = list(zip(index_array,min_array,point_vector_array))\n",
    "    df_results = pd.DataFrame(a,columns = ['centerline_point_index','min_distance','point_vector'])\n",
    "    # print(\"--- %s seconds ---\" % (time.time() - start_time))\n",
    "    return(df_results)\n",
    "    "
   ]
  },
  {
   "cell_type": "code",
   "execution_count": 3,
   "metadata": {},
   "outputs": [],
   "source": [
    "def merge_df_SP_CLP_Match_cal(df_SP, df_CLP,df_SP_CLP_calculation):\n",
    "    #rename columns to identify them in the final dataframe\n",
    "    df_SP = df_SP.rename(columns={'X':'X_SP','Y':'Y_SP','Z':'Z_SP'})\n",
    "    df_CLP = df_CLP.rename(columns={'X':'X_CLP','Y':'Y_CLP','Z':'Z_CLP'})\n",
    "    \n",
    "    #two step merge of the three dataframes\n",
    "    df_merge1 = df_SP_CLP_calculation.merge(df_CLP,left_on=['centerline_point_index'],right_index=True)\n",
    "    df_merge2 = df_SP.merge(df_merge1,left_index=True, right_index=True)\n",
    "    return(df_merge2)\n",
    "    \n"
   ]
  },
  {
   "cell_type": "code",
   "execution_count": 3,
   "metadata": {},
   "outputs": [],
   "source": [
    "def Calculate_Surface_area(df_merged):\n",
    "    #sort the dataframe first\n",
    "    df_merged = df_merged.sort_values(['centerline_point_index','AngularMetric'],ascending=[True, False])\n",
    "    \n",
    "    # calculate the surface area for each centerlinepoint\n",
    "    area_list = []\n",
    "    Loop_list = df_merged['centerline_point_index'].unique()\n",
    "    #Loop through all surface points which have a centerline assigned\n",
    "    for i in Loop_list:\n",
    "        #filter the dataframe for each centerline_point\n",
    "        df_merged[df_merged['centerline_point_index']== i]\n",
    "        Area = 0\n",
    "        #get the amount of surface points assinged to a specifc centerline_point_index\n",
    "        N_tri_edg = len(df_merged[df_merged['centerline_point_index']== i])\n",
    "        print(N_tri_edg)\n",
    "        for j in range(0,N_tri_edg):\n",
    "            #check if j is last point, then cross last with first point\n",
    "            if j == N_tri_edg:\n",
    "                vec_A = np.array(literal_eval(df_merged['point_vector'][j]))\n",
    "                vec_B = np.array(literal_eval(df_merged['point_vector'][0]))\n",
    "                Area = Area + 0.5 * np.linalg.norm(np.cross(vec_A,vec_B))\n",
    "\n",
    "            if j < N_tri_edg:\n",
    "                vec_A = np.array(literal_eval(df_merged['point_vector'][j]))\n",
    "                vec_B = np.array(literal_eval(df_merged['point_vector'][j+1]))\n",
    "                Area = Area + 0.5 * np.linalg.norm(np.cross(vec_A,vec_B))\n",
    "\n",
    "        area_list.append([Area,i])\n",
    "    df_area = pd.DataFrame(area_list,  columns=['Area', 'index_CL'])   \n",
    "    return(df_area)"
   ]
  },
  {
   "cell_type": "code",
   "execution_count": 43,
   "metadata": {},
   "outputs": [],
   "source": [
    "def Calculate_centerline_length(df_CLP):\n",
    "    vec= np.zeros(len(df_CLP))\n",
    "    CLP_cor = df_CLP[['X','Y','Z']]\n",
    "    for i in range(1,len(df_CLP)):        \n",
    "        CLP_len = CLP_cor.iloc[i] - CLP_cor.iloc[i-1]\n",
    "        vec[i] = np.linalg.norm(CLP_len)\n",
    "    distances_CLP = np.cumsum(vec)\n",
    "    return(distances_CLP)\n"
   ]
  }
 ],
 "metadata": {
  "kernelspec": {
   "display_name": "Python 3",
   "language": "python",
   "name": "python3"
  },
  "language_info": {
   "codemirror_mode": {
    "name": "ipython",
    "version": 3
   },
   "file_extension": ".py",
   "mimetype": "text/x-python",
   "name": "python",
   "nbconvert_exporter": "python",
   "pygments_lexer": "ipython3",
   "version": "3.6.6"
  },
  "latex_envs": {
   "LaTeX_envs_menu_present": true,
   "autoclose": false,
   "autocomplete": true,
   "bibliofile": "biblio.bib",
   "cite_by": "apalike",
   "current_citInitial": 1,
   "eqLabelWithNumbers": true,
   "eqNumInitial": 1,
   "hotkeys": {
    "equation": "Ctrl-E",
    "itemize": "Ctrl-I"
   },
   "labels_anchors": false,
   "latex_user_defs": false,
   "report_style_numbering": false,
   "user_envs_cfg": false
  }
 },
 "nbformat": 4,
 "nbformat_minor": 2
}
